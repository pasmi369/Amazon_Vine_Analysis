{
  "nbformat": 4,
  "nbformat_minor": 0,
  "metadata": {
    "colab": {
      "name": "Amazon_Reviews_ETL.ipynb",
      "provenance": [],
      "collapsed_sections": [],
      "include_colab_link": true
    },
    "kernelspec": {
      "display_name": "PythonData",
      "language": "python",
      "name": "pythondata"
    },
    "language_info": {
      "codemirror_mode": {
        "name": "ipython",
        "version": 3
      },
      "file_extension": ".py",
      "mimetype": "text/x-python",
      "name": "python",
      "nbconvert_exporter": "python",
      "pygments_lexer": "ipython3",
      "version": "3.7.7"
    },
    "nteract": {
      "version": "0.12.3"
    }
  },
  "cells": [
    {
      "cell_type": "markdown",
      "metadata": {
        "id": "view-in-github",
        "colab_type": "text"
      },
      "source": [
        "<a href=\"https://colab.research.google.com/github/pasmi369/Amazon_Vine_Analysis/blob/main/Amazon_Reviews_ETL.ipynb\" target=\"_parent\"><img src=\"https://colab.research.google.com/assets/colab-badge.svg\" alt=\"Open In Colab\"/></a>"
      ]
    },
    {
      "cell_type": "code",
      "metadata": {
        "id": "V58rxea0HqSa",
        "colab": {
          "base_uri": "https://localhost:8080/"
        },
        "outputId": "e2c997c6-507a-4898-ee78-8d0dc32fd66a"
      },
      "source": [
        "import os\n",
        "# Find the latest version of spark 2.0  from http://www-us.apache.org/dist/spark/ and enter as the spark version\n",
        "# For example:\n",
        "# spark_version = 'spark-3.0.0'\n",
        "spark_version = 'spark-3.0.2'\n",
        "os.environ['SPARK_VERSION']=spark_version\n",
        "\n",
        "# Install Spark and Java\n",
        "!apt-get update\n",
        "!apt-get install openjdk-11-jdk-headless -qq > /dev/null\n",
        "!wget -q http://www-us.apache.org/dist/spark/$SPARK_VERSION/$SPARK_VERSION-bin-hadoop2.7.tgz\n",
        "!tar xf $SPARK_VERSION-bin-hadoop2.7.tgz\n",
        "!pip install -q findspark\n",
        "\n",
        "# Set Environment Variables\n",
        "import os\n",
        "os.environ[\"JAVA_HOME\"] = \"/usr/lib/jvm/java-11-openjdk-amd64\"\n",
        "os.environ[\"SPARK_HOME\"] = f\"/content/{spark_version}-bin-hadoop2.7\"\n",
        "\n",
        "# Start a SparkSession\n",
        "import findspark\n",
        "findspark.init()"
      ],
      "execution_count": null,
      "outputs": [
        {
          "output_type": "stream",
          "text": [
            "\r0% [Working]\r            \rHit:1 https://cloud.r-project.org/bin/linux/ubuntu bionic-cran40/ InRelease\n",
            "\r0% [Connecting to archive.ubuntu.com (91.189.88.152)] [Connecting to security.u\r0% [1 InRelease gpgv 3,626 B] [Connecting to archive.ubuntu.com (91.189.88.152)\r                                                                               \rIgn:2 https://developer.download.nvidia.com/compute/cuda/repos/ubuntu1804/x86_64  InRelease\n",
            "\r0% [1 InRelease gpgv 3,626 B] [Connecting to archive.ubuntu.com (91.189.88.152)\r                                                                               \rIgn:3 https://developer.download.nvidia.com/compute/machine-learning/repos/ubuntu1804/x86_64  InRelease\n",
            "\r0% [1 InRelease gpgv 3,626 B] [Waiting for headers] [Waiting for headers] [Wait\r                                                                               \rGet:4 http://security.ubuntu.com/ubuntu bionic-security InRelease [88.7 kB]\n",
            "Hit:5 https://developer.download.nvidia.com/compute/cuda/repos/ubuntu1804/x86_64  Release\n",
            "Hit:6 https://developer.download.nvidia.com/compute/machine-learning/repos/ubuntu1804/x86_64  Release\n",
            "Hit:7 http://ppa.launchpad.net/c2d4u.team/c2d4u4.0+/ubuntu bionic InRelease\n",
            "Hit:8 http://archive.ubuntu.com/ubuntu bionic InRelease\n",
            "Get:9 http://archive.ubuntu.com/ubuntu bionic-updates InRelease [88.7 kB]\n",
            "Hit:11 http://ppa.launchpad.net/cran/libgit2/ubuntu bionic InRelease\n",
            "Hit:13 http://ppa.launchpad.net/deadsnakes/ppa/ubuntu bionic InRelease\n",
            "Get:14 http://archive.ubuntu.com/ubuntu bionic-backports InRelease [74.6 kB]\n",
            "Hit:15 http://ppa.launchpad.net/graphics-drivers/ppa/ubuntu bionic InRelease\n",
            "Fetched 252 kB in 2s (118 kB/s)\n",
            "Reading package lists... Done\n"
          ],
          "name": "stdout"
        }
      ]
    },
    {
      "cell_type": "code",
      "metadata": {
        "id": "_xKwTpATHqSe",
        "colab": {
          "base_uri": "https://localhost:8080/"
        },
        "outputId": "6f8037bb-69ca-4088-fda0-79ca145f784d"
      },
      "source": [
        "# Download the Postgres driver that will allow Spark to interact with Postgres.\n",
        "!wget https://jdbc.postgresql.org/download/postgresql-42.2.16.jar"
      ],
      "execution_count": null,
      "outputs": [
        {
          "output_type": "stream",
          "text": [
            "--2021-06-07 01:08:37--  https://jdbc.postgresql.org/download/postgresql-42.2.16.jar\n",
            "Resolving jdbc.postgresql.org (jdbc.postgresql.org)... 72.32.157.228, 2001:4800:3e1:1::228\n",
            "Connecting to jdbc.postgresql.org (jdbc.postgresql.org)|72.32.157.228|:443... connected.\n",
            "HTTP request sent, awaiting response... 200 OK\n",
            "Length: 1002883 (979K) [application/java-archive]\n",
            "Saving to: ‘postgresql-42.2.16.jar.2’\n",
            "\n",
            "postgresql-42.2.16. 100%[===================>] 979.38K  4.71MB/s    in 0.2s    \n",
            "\n",
            "2021-06-07 01:08:37 (4.71 MB/s) - ‘postgresql-42.2.16.jar.2’ saved [1002883/1002883]\n",
            "\n"
          ],
          "name": "stdout"
        }
      ]
    },
    {
      "cell_type": "code",
      "metadata": {
        "id": "MMqDAjVS0KN9"
      },
      "source": [
        "from pyspark.sql import SparkSession\n",
        "spark = SparkSession.builder.appName(\"BigData-Challenge\").config(\"spark.driver.extraClassPath\",\"/content/postgresql-42.2.16.jar\").getOrCreate()"
      ],
      "execution_count": null,
      "outputs": []
    },
    {
      "cell_type": "markdown",
      "metadata": {
        "id": "cyBsySGuY-9V"
      },
      "source": [
        "### Load Amazon Data into Spark DataFrame"
      ]
    },
    {
      "cell_type": "code",
      "metadata": {
        "id": "CtCmBhQJY-9Z",
        "colab": {
          "base_uri": "https://localhost:8080/"
        },
        "outputId": "35902b7b-569f-4bd3-f69f-597f887e0375"
      },
      "source": [
        "from pyspark import SparkFiles\n",
        "url = \"https://s3.amazonaws.com/amazon-reviews-pds/tsv/amazon_reviews_us_Video_Games_v1_00.tsv.gz\"\n",
        "spark.sparkContext.addFile(url)\n",
        "df = spark.read.option(\"encoding\", \"UTF-8\").csv(SparkFiles.get(\"amazon_reviews_us_Video_Games_v1_00.tsv.gz\"), sep=\"\\t\", header=True, inferSchema=True)\n",
        "df.show(truncate=False)"
      ],
      "execution_count": null,
      "outputs": [
        {
          "output_type": "stream",
          "text": [
            "+-----------+-----------+--------------+----------+--------------+---------------------------------------------------------------------------------------------------------------------------+----------------+-----------+-------------+-----------+----+-----------------+--------------------------------------------------------------------------+---------------------------------------------------------------------------------------------------------------------------------------------------------------------------------------------------------------------------------------------------------------------------------------------------------------------------------------------------+-----------+\n",
            "|marketplace|customer_id|review_id     |product_id|product_parent|product_title                                                                                                              |product_category|star_rating|helpful_votes|total_votes|vine|verified_purchase|review_headline                                                           |review_body                                                                                                                                                                                                                                                                                                                                        |review_date|\n",
            "+-----------+-----------+--------------+----------+--------------+---------------------------------------------------------------------------------------------------------------------------+----------------+-----------+-------------+-----------+----+-----------------+--------------------------------------------------------------------------+---------------------------------------------------------------------------------------------------------------------------------------------------------------------------------------------------------------------------------------------------------------------------------------------------------------------------------------------------+-----------+\n",
            "|US         |12039526   |RTIS3L2M1F5SM |B001CXYMFS|737716809     |Thrustmaster T-Flight Hotas X Flight Stick                                                                                 |Video Games     |5          |0            |0          |N   |Y                |an amazing joystick. I especially love that you can twist ...             |Used this for Elite Dangerous on my mac, an amazing joystick. I especially love that you can twist the stick for different movement bindings as well as move it in the normal way.                                                                                                                                                                 |2015-08-31 |\n",
            "|US         |9636577    |R1ZV7R40OLHKD |B00M920ND6|569686175     |Tonsee 6 buttons Wireless Optical Silent Gaming Mouse For PC Laptop Gamer Red                                              |Video Games     |5          |0            |0          |N   |Y                |Definitely a silent mouse... Not a single click was heard                 |Loved it,  I didn't even realise it was a gaming mouse,  I typed in &#34;silent mouse&#34; and selected this one. It is perfect and looks pretty cool as well. Now my boyfriend's gaming is wonderfully comfortably silent :) . Think I might just get one for myself.                                                                             |2015-08-31 |\n",
            "|US         |2331478    |R3BH071QLH8QMC|B0029CSOD2|98937668      |Hidden Mysteries: Titanic Secrets of the Fateful Voyage                                                                    |Video Games     |1          |0            |1          |N   |Y                |One Star                                                                  |poor quality work and not as it is advertised.                                                                                                                                                                                                                                                                                                     |2015-08-31 |\n",
            "|US         |52495923   |R127K9NTSXA2YH|B00GOOSV98|23143350      |GelTabz Performance Thumb Grips - PlayStation 4 and PlayStation 3                                                          |Video Games     |3          |0            |0          |N   |Y                |good, but could be bettee                                                 |nice, but tend to slip away from stick in intense (hard pressed) gaming sessions.                                                                                                                                                                                                                                                                  |2015-08-31 |\n",
            "|US         |14533949   |R32ZWUXDJPW27Q|B00Y074JOM|821342511     |Zero Suit Samus amiibo - Japan Import (Super Smash Bros Series)                                                            |Video Games     |4          |0            |0          |N   |Y                |Great but flawed.                                                         |Great amiibo, great for collecting. Quality material to be desired, since its not perfect.                                                                                                                                                                                                                                                         |2015-08-31 |\n",
            "|US         |2377552    |R3AQQ4YUKJWBA6|B002UBI6W6|328764615     |Psyclone Recharge Station for Nintendo Wii 4 Port With 4 Batteries                                                         |Video Games     |1          |0            |0          |N   |Y                |One Star                                                                  |The remote constantly have to be adjusted in order to charge.                                                                                                                                                                                                                                                                                      |2015-08-31 |\n",
            "|US         |17521011   |R2F0POU5K6F73F|B008XHCLFO|24234603      |Protection for your 3DS XL                                                                                                 |Video Games     |5          |0            |0          |N   |Y                |A Must                                                                    |I have a 2012-2013 XL and this is very durable, comfortable, and really cool looking.                                                                                                                                                                                                                                                              |2015-08-31 |\n",
            "|US         |19676307   |R3VNR804HYSMR6|B00BRA9R6A|682267517     |Nerf 3DS XL Armor                                                                                                          |Video Games     |5          |0            |0          |N   |Y                |Five Stars                                                                |Perfect, kids loved them. Great protection for their technology.                                                                                                                                                                                                                                                                                   |2015-08-31 |\n",
            "|US         |224068     |R3GZTM72WA2QH |B009EPWJLA|435241890     |One Piece: Pirate Warriors / Kaizoku Musou PS3 Game (Japanese Voice & English subtitle) [Region Free International Edition]|Video Games     |5          |0            |0          |N   |Y                |Five Stars                                                                |Excelent                                                                                                                                                                                                                                                                                                                                           |2015-08-31 |\n",
            "|US         |48467989   |RNQOY62705W1K |B0000AV7GB|256572651     |Playstation 2 Dance Pad Revolution 2                                                                                       |Video Games     |4          |0            |0          |N   |Y                |Four Stars                                                                |Slippery but expected                                                                                                                                                                                                                                                                                                                              |2015-08-31 |\n",
            "|US         |106569     |R1VTIA3JTYBY02|B00008KTNN|384411423     |Metal Arms: Glitch In The System                                                                                           |Video Games     |5          |0            |0          |N   |N                |Five Stars                                                                |Love the game. Seller hasn't released Amy info on my shipping  progress                                                                                                                                                                                                                                                                            |2015-08-31 |\n",
            "|US         |48269642   |R29DOU8791QZL8|B000A3IA0Y|472622859     |72 Pin Connector for NES 8 BIT Nintendo System (Bulk Packaging)                                                            |Video Games     |1          |0            |0          |N   |Y                |Game will get stuck                                                       |Does not fit properly. The cartridge will get stuck and will be a pain in the butt to get out! I don't think this company actually test this because if they did they would notice that the cartridge will be hard as hell to remove! My advice would be to try and refurbish the old 72 pin if possible. Don't waste your money like I did.       |2015-08-31 |\n",
            "|US         |52738710   |R15DUT1VIJ9RJZ|B0053BQN34|577628462     |uDraw Gametablet with uDraw Studio                                                                                         |Video Games     |2          |0            |0          |N   |Y                |We have tried it with kids ages 4-7 and none of them have had fun doing it|This was way too hard for my kids. We have tried it with kids ages 4-7 and none of them have had fun doing it. It's a little complicated and I pretty much had to do it the whole time for them. They would only play with it for a few minutes and then be done. It looked fun so we were disappointed that it wasn't easy enough for them to use.|2015-08-31 |\n",
            "|US         |10556786   |R3IMF2MQ3OU9ZM|B002I0HIMI|988218515     |NBA 2K12(Covers May Vary)                                                                                                  |Video Games     |4          |0            |0          |N   |Y                |Four Stars                                                                |Works great good game arrived quickly                                                                                                                                                                                                                                                                                                              |2015-08-31 |\n",
            "|US         |2963837    |R23H79DHOZTYAU|B0081EH12M|770100932     |New Trigger Grips Black Compatible With PSVita Playstation Vita                                                            |Video Games     |1          |1            |1          |N   |Y                |Now i have to buy a better one. Sorry guys but its the truth              |It did not fit the device well... Now i have to buy a better one. Sorry guys but its the truth.                                                                                                                                                                                                                                                    |2015-08-31 |\n",
            "|US         |23092109   |RIV24EQAIXA4O |B005FMLZQQ|24647669      |Xbox 360 Media Remote                                                                                                      |Video Games     |5          |0            |0          |N   |Y                |Five Stars                                                                |perfect lightweight and works flawless with Xbox 360                                                                                                                                                                                                                                                                                               |2015-08-31 |\n",
            "|US         |23091728   |R3UCNGYDVN24YB|B002BSA388|33706205      |Super Mario Galaxy 2                                                                                                       |Video Games     |5          |0            |0          |N   |Y                |Five Stars                                                                |great                                                                                                                                                                                                                                                                                                                                              |2015-08-31 |\n",
            "|US         |10712640   |RUL4H4XTTN2DY |B00BUSLSAC|829667834     |Nintendo 3DS XL - Yellow Pikachu                                                                                           |Video Games     |5          |0            |0          |N   |Y                |Five Stars                                                                |Works beautifully and looks great. I love playing the slew of great rpgs for it.                                                                                                                                                                                                                                                                   |2015-08-31 |\n",
            "|US         |17455376   |R20JF7Z4DHTNX5|B00KWF38AW|110680188     |Captain Toad:  Treasure Tracker                                                                                            |Video Games     |5          |0            |0          |N   |Y                |Five Stars                                                                |Kids loved the game.  They are 9 and 11.                                                                                                                                                                                                                                                                                                           |2015-08-31 |\n",
            "|US         |14754850   |R2T1AJ5MFI2260|B00BRQJYA8|616463426     |Lego Batman 2: DC Super Heroes                                                                                             |Video Games     |4          |0            |0          |N   |Y                |Four Stars                                                                |Goodngame                                                                                                                                                                                                                                                                                                                                          |2015-08-31 |\n",
            "+-----------+-----------+--------------+----------+--------------+---------------------------------------------------------------------------------------------------------------------------+----------------+-----------+-------------+-----------+----+-----------------+--------------------------------------------------------------------------+---------------------------------------------------------------------------------------------------------------------------------------------------------------------------------------------------------------------------------------------------------------------------------------------------------------------------------------------------+-----------+\n",
            "only showing top 20 rows\n",
            "\n"
          ],
          "name": "stdout"
        }
      ]
    },
    {
      "cell_type": "markdown",
      "metadata": {
        "id": "2yUSe55VY-9t"
      },
      "source": [
        "### Create DataFrames to match tables"
      ]
    },
    {
      "cell_type": "code",
      "metadata": {
        "id": "C8REmY1aY-9u",
        "colab": {
          "base_uri": "https://localhost:8080/"
        },
        "outputId": "5dd3c69e-3c83-4cb7-e3b8-38eaeaab4d7a"
      },
      "source": [
        "from pyspark.sql.functions import to_date\n",
        "# Read in the Review dataset as a DataFrame\n",
        "#review_id_table = df.select(['review_id', 'customer_id', 'product_id', 'product_parent',to_date('review_date','yyyy-mm-dd').alias('review_date') ])\n",
        "#review_id_table.show(10)\n",
        "df.show(truncate=False)"
      ],
      "execution_count": null,
      "outputs": [
        {
          "output_type": "stream",
          "text": [
            "+-----------+-----------+--------------+----------+--------------+---------------------------------------------------------------------------------------------------------------------------+----------------+-----------+-------------+-----------+----+-----------------+--------------------------------------------------------------------------+---------------------------------------------------------------------------------------------------------------------------------------------------------------------------------------------------------------------------------------------------------------------------------------------------------------------------------------------------+-----------+\n",
            "|marketplace|customer_id|review_id     |product_id|product_parent|product_title                                                                                                              |product_category|star_rating|helpful_votes|total_votes|vine|verified_purchase|review_headline                                                           |review_body                                                                                                                                                                                                                                                                                                                                        |review_date|\n",
            "+-----------+-----------+--------------+----------+--------------+---------------------------------------------------------------------------------------------------------------------------+----------------+-----------+-------------+-----------+----+-----------------+--------------------------------------------------------------------------+---------------------------------------------------------------------------------------------------------------------------------------------------------------------------------------------------------------------------------------------------------------------------------------------------------------------------------------------------+-----------+\n",
            "|US         |12039526   |RTIS3L2M1F5SM |B001CXYMFS|737716809     |Thrustmaster T-Flight Hotas X Flight Stick                                                                                 |Video Games     |5          |0            |0          |N   |Y                |an amazing joystick. I especially love that you can twist ...             |Used this for Elite Dangerous on my mac, an amazing joystick. I especially love that you can twist the stick for different movement bindings as well as move it in the normal way.                                                                                                                                                                 |2015-08-31 |\n",
            "|US         |9636577    |R1ZV7R40OLHKD |B00M920ND6|569686175     |Tonsee 6 buttons Wireless Optical Silent Gaming Mouse For PC Laptop Gamer Red                                              |Video Games     |5          |0            |0          |N   |Y                |Definitely a silent mouse... Not a single click was heard                 |Loved it,  I didn't even realise it was a gaming mouse,  I typed in &#34;silent mouse&#34; and selected this one. It is perfect and looks pretty cool as well. Now my boyfriend's gaming is wonderfully comfortably silent :) . Think I might just get one for myself.                                                                             |2015-08-31 |\n",
            "|US         |2331478    |R3BH071QLH8QMC|B0029CSOD2|98937668      |Hidden Mysteries: Titanic Secrets of the Fateful Voyage                                                                    |Video Games     |1          |0            |1          |N   |Y                |One Star                                                                  |poor quality work and not as it is advertised.                                                                                                                                                                                                                                                                                                     |2015-08-31 |\n",
            "|US         |52495923   |R127K9NTSXA2YH|B00GOOSV98|23143350      |GelTabz Performance Thumb Grips - PlayStation 4 and PlayStation 3                                                          |Video Games     |3          |0            |0          |N   |Y                |good, but could be bettee                                                 |nice, but tend to slip away from stick in intense (hard pressed) gaming sessions.                                                                                                                                                                                                                                                                  |2015-08-31 |\n",
            "|US         |14533949   |R32ZWUXDJPW27Q|B00Y074JOM|821342511     |Zero Suit Samus amiibo - Japan Import (Super Smash Bros Series)                                                            |Video Games     |4          |0            |0          |N   |Y                |Great but flawed.                                                         |Great amiibo, great for collecting. Quality material to be desired, since its not perfect.                                                                                                                                                                                                                                                         |2015-08-31 |\n",
            "|US         |2377552    |R3AQQ4YUKJWBA6|B002UBI6W6|328764615     |Psyclone Recharge Station for Nintendo Wii 4 Port With 4 Batteries                                                         |Video Games     |1          |0            |0          |N   |Y                |One Star                                                                  |The remote constantly have to be adjusted in order to charge.                                                                                                                                                                                                                                                                                      |2015-08-31 |\n",
            "|US         |17521011   |R2F0POU5K6F73F|B008XHCLFO|24234603      |Protection for your 3DS XL                                                                                                 |Video Games     |5          |0            |0          |N   |Y                |A Must                                                                    |I have a 2012-2013 XL and this is very durable, comfortable, and really cool looking.                                                                                                                                                                                                                                                              |2015-08-31 |\n",
            "|US         |19676307   |R3VNR804HYSMR6|B00BRA9R6A|682267517     |Nerf 3DS XL Armor                                                                                                          |Video Games     |5          |0            |0          |N   |Y                |Five Stars                                                                |Perfect, kids loved them. Great protection for their technology.                                                                                                                                                                                                                                                                                   |2015-08-31 |\n",
            "|US         |224068     |R3GZTM72WA2QH |B009EPWJLA|435241890     |One Piece: Pirate Warriors / Kaizoku Musou PS3 Game (Japanese Voice & English subtitle) [Region Free International Edition]|Video Games     |5          |0            |0          |N   |Y                |Five Stars                                                                |Excelent                                                                                                                                                                                                                                                                                                                                           |2015-08-31 |\n",
            "|US         |48467989   |RNQOY62705W1K |B0000AV7GB|256572651     |Playstation 2 Dance Pad Revolution 2                                                                                       |Video Games     |4          |0            |0          |N   |Y                |Four Stars                                                                |Slippery but expected                                                                                                                                                                                                                                                                                                                              |2015-08-31 |\n",
            "|US         |106569     |R1VTIA3JTYBY02|B00008KTNN|384411423     |Metal Arms: Glitch In The System                                                                                           |Video Games     |5          |0            |0          |N   |N                |Five Stars                                                                |Love the game. Seller hasn't released Amy info on my shipping  progress                                                                                                                                                                                                                                                                            |2015-08-31 |\n",
            "|US         |48269642   |R29DOU8791QZL8|B000A3IA0Y|472622859     |72 Pin Connector for NES 8 BIT Nintendo System (Bulk Packaging)                                                            |Video Games     |1          |0            |0          |N   |Y                |Game will get stuck                                                       |Does not fit properly. The cartridge will get stuck and will be a pain in the butt to get out! I don't think this company actually test this because if they did they would notice that the cartridge will be hard as hell to remove! My advice would be to try and refurbish the old 72 pin if possible. Don't waste your money like I did.       |2015-08-31 |\n",
            "|US         |52738710   |R15DUT1VIJ9RJZ|B0053BQN34|577628462     |uDraw Gametablet with uDraw Studio                                                                                         |Video Games     |2          |0            |0          |N   |Y                |We have tried it with kids ages 4-7 and none of them have had fun doing it|This was way too hard for my kids. We have tried it with kids ages 4-7 and none of them have had fun doing it. It's a little complicated and I pretty much had to do it the whole time for them. They would only play with it for a few minutes and then be done. It looked fun so we were disappointed that it wasn't easy enough for them to use.|2015-08-31 |\n",
            "|US         |10556786   |R3IMF2MQ3OU9ZM|B002I0HIMI|988218515     |NBA 2K12(Covers May Vary)                                                                                                  |Video Games     |4          |0            |0          |N   |Y                |Four Stars                                                                |Works great good game arrived quickly                                                                                                                                                                                                                                                                                                              |2015-08-31 |\n",
            "|US         |2963837    |R23H79DHOZTYAU|B0081EH12M|770100932     |New Trigger Grips Black Compatible With PSVita Playstation Vita                                                            |Video Games     |1          |1            |1          |N   |Y                |Now i have to buy a better one. Sorry guys but its the truth              |It did not fit the device well... Now i have to buy a better one. Sorry guys but its the truth.                                                                                                                                                                                                                                                    |2015-08-31 |\n",
            "|US         |23092109   |RIV24EQAIXA4O |B005FMLZQQ|24647669      |Xbox 360 Media Remote                                                                                                      |Video Games     |5          |0            |0          |N   |Y                |Five Stars                                                                |perfect lightweight and works flawless with Xbox 360                                                                                                                                                                                                                                                                                               |2015-08-31 |\n",
            "|US         |23091728   |R3UCNGYDVN24YB|B002BSA388|33706205      |Super Mario Galaxy 2                                                                                                       |Video Games     |5          |0            |0          |N   |Y                |Five Stars                                                                |great                                                                                                                                                                                                                                                                                                                                              |2015-08-31 |\n",
            "|US         |10712640   |RUL4H4XTTN2DY |B00BUSLSAC|829667834     |Nintendo 3DS XL - Yellow Pikachu                                                                                           |Video Games     |5          |0            |0          |N   |Y                |Five Stars                                                                |Works beautifully and looks great. I love playing the slew of great rpgs for it.                                                                                                                                                                                                                                                                   |2015-08-31 |\n",
            "|US         |17455376   |R20JF7Z4DHTNX5|B00KWF38AW|110680188     |Captain Toad:  Treasure Tracker                                                                                            |Video Games     |5          |0            |0          |N   |Y                |Five Stars                                                                |Kids loved the game.  They are 9 and 11.                                                                                                                                                                                                                                                                                                           |2015-08-31 |\n",
            "|US         |14754850   |R2T1AJ5MFI2260|B00BRQJYA8|616463426     |Lego Batman 2: DC Super Heroes                                                                                             |Video Games     |4          |0            |0          |N   |Y                |Four Stars                                                                |Goodngame                                                                                                                                                                                                                                                                                                                                          |2015-08-31 |\n",
            "+-----------+-----------+--------------+----------+--------------+---------------------------------------------------------------------------------------------------------------------------+----------------+-----------+-------------+-----------+----+-----------------+--------------------------------------------------------------------------+---------------------------------------------------------------------------------------------------------------------------------------------------------------------------------------------------------------------------------------------------------------------------------------------------------------------------------------------------+-----------+\n",
            "only showing top 20 rows\n",
            "\n"
          ],
          "name": "stdout"
        }
      ]
    },
    {
      "cell_type": "code",
      "metadata": {
        "id": "B0TESUDRY-90",
        "colab": {
          "base_uri": "https://localhost:8080/"
        },
        "outputId": "0156d048-da2f-43dd-ffd0-ee6a2275a5fb"
      },
      "source": [
        "# Create the customers_table DataFrame\n",
        "customers_df = df.groupby(\"customer_id\").agg({\"customer_id\":'count'}).withColumnRenamed(\"count(customer_id)\", \"customer_count\")\n",
        "customers_df.show()"
      ],
      "execution_count": null,
      "outputs": [
        {
          "output_type": "stream",
          "text": [
            "+-----------+--------------+\n",
            "|customer_id|customer_count|\n",
            "+-----------+--------------+\n",
            "|   48670265|             1|\n",
            "|   49103216|             2|\n",
            "|    1131200|             1|\n",
            "|   43076447|             2|\n",
            "|   46261368|             1|\n",
            "|    4883305|             5|\n",
            "|   41192649|             1|\n",
            "|   40985731|             7|\n",
            "|   10437900|             2|\n",
            "|   22245671|             1|\n",
            "|    2574873|             1|\n",
            "|    4696154|             1|\n",
            "|    5621202|             1|\n",
            "|    5871933|             2|\n",
            "|   44089812|             1|\n",
            "|    2845910|             1|\n",
            "|    5274369|             1|\n",
            "|   39069693|             2|\n",
            "|     137793|             1|\n",
            "|   31914942|             3|\n",
            "+-----------+--------------+\n",
            "only showing top 20 rows\n",
            "\n"
          ],
          "name": "stdout"
        }
      ]
    },
    {
      "cell_type": "code",
      "metadata": {
        "id": "4FwXA6UvY-96",
        "colab": {
          "base_uri": "https://localhost:8080/"
        },
        "outputId": "38895418-228c-4695-a5e2-86a207d3ddaa"
      },
      "source": [
        "# Create the products_table DataFrame and drop duplicates. \n",
        "products_df = df.select(['product_id', 'product_title']).drop_duplicates()\n",
        "products_df.show(truncate=False)"
      ],
      "execution_count": null,
      "outputs": [
        {
          "output_type": "stream",
          "text": [
            "+----------+------------------------------------------------------------------------------------------------------------------------------------------------------------------------------------------------------------------------+\n",
            "|product_id|product_title                                                                                                                                                                                                           |\n",
            "+----------+------------------------------------------------------------------------------------------------------------------------------------------------------------------------------------------------------------------------+\n",
            "|B00CJ7IUI6|The Elder Scrolls V: Skyrim Legendary Edition                                                                                                                                                                           |\n",
            "|B00DHF39KS|Wolfenstein: The New Order                                                                                                                                                                                              |\n",
            "|B00MUTAVH6|Under Night In-Birth Exe:Late - PlayStation 3                                                                                                                                                                           |\n",
            "|B001AZSEUW|Peggle                                                                                                                                                                                                                  |\n",
            "|B00KVOVBGM|PlayStation 4 Console - Destiny Bundle [Discontinued]                                                                                                                                                                   |\n",
            "|B00O9VGH4Y|USPRO&reg; Headphone Audio Adapter for Xbox 360                                                                                                                                                                         |\n",
            "|B004OQNZY4|Phineas and Ferb: Across the 2nd Dimension                                                                                                                                                                              |\n",
            "|B00ZLN980O|Donop seablue 2.4g Wireless Controller for Ps2,game Pad Game Joysticks Gaming Controller Joypad Gamepad Console Controller for Sony Playstation 2 w/ Dual Shock Dual Vibration Feedback Motors Easy Installation for Ps2|\n",
            "|B002L8W5V6|Dotop Nintendo Gamecube Compatible Controller Pack 2 Black                                                                                                                                                              |\n",
            "|B007AJZ5PY|Nyko Game Case for Vita - PlayStation Vita                                                                                                                                                                              |\n",
            "|B000AOEU2K|Fire Emblem: Path of Radiance - Gamecube                                                                                                                                                                                |\n",
            "|B000H8BW7U|Tanarus (PC) (Computer Game)                                                                                                                                                                                            |\n",
            "|B013RADQOQ|Susenstone® 2400DPI LED Optical 6D USB Wired Gaming Game Mouse For PC Laptop Game                                                                                                                                       |\n",
            "|B00KQXKUJ2|FIFA 15 (Ultimate Edition) - PlayStation 4                                                                                                                                                                              |\n",
            "|B006W41X2C|Turtle Beach - Ear Force DP11 Gaming Headset - Dolby Surround Sound - PS3                                                                                                                                               |\n",
            "|B000KCX9M4|Grand Theft Auto:  The Trilogy                                                                                                                                                                                          |\n",
            "|B00YT90JWC|Red Wii Mini Console MotionPlus Bundle (Wii) (Bundle) (Certified Refurbished)                                                                                                                                           |\n",
            "|B0096KG6A8|Wii U Super Mario Starter Pack                                                                                                                                                                                          |\n",
            "|B00L6AVLB0|World of Tanks-X360 Xbox 360 English US NTSC DVD - Xbox 360                                                                                                                                                             |\n",
            "|B000IMYKQ0|Wii Nunchuk Controller                                                                                                                                                                                                  |\n",
            "+----------+------------------------------------------------------------------------------------------------------------------------------------------------------------------------------------------------------------------------+\n",
            "only showing top 20 rows\n",
            "\n"
          ],
          "name": "stdout"
        }
      ]
    },
    {
      "cell_type": "code",
      "metadata": {
        "id": "MkqyCuNQY-9-",
        "colab": {
          "base_uri": "https://localhost:8080/"
        },
        "outputId": "712a12bf-5e57-4fab-e22b-b0045fb3ed31"
      },
      "source": [
        "# Create the review_id_table DataFrame. \n",
        "# Convert the 'review_date' column to a date datatype with to_date(\"review_date\", 'yyyy-MM-dd').alias(\"review_date\")\n",
        "# review_id_df = df.select([, to_date(\"review_date\", 'yyyy-MM-dd').alias(\"review_date\")])\n",
        "review_id_table = df.select(['review_id', 'customer_id', 'product_id', 'product_parent',to_date('review_date','yyyy-mm-dd').alias('review_date') ])\n",
        "review_id_table.show(20, truncate=False)"
      ],
      "execution_count": null,
      "outputs": [
        {
          "output_type": "stream",
          "text": [
            "+--------------+-----------+----------+--------------+-----------+\n",
            "|review_id     |customer_id|product_id|product_parent|review_date|\n",
            "+--------------+-----------+----------+--------------+-----------+\n",
            "|RTIS3L2M1F5SM |12039526   |B001CXYMFS|737716809     |2015-01-31 |\n",
            "|R1ZV7R40OLHKD |9636577    |B00M920ND6|569686175     |2015-01-31 |\n",
            "|R3BH071QLH8QMC|2331478    |B0029CSOD2|98937668      |2015-01-31 |\n",
            "|R127K9NTSXA2YH|52495923   |B00GOOSV98|23143350      |2015-01-31 |\n",
            "|R32ZWUXDJPW27Q|14533949   |B00Y074JOM|821342511     |2015-01-31 |\n",
            "|R3AQQ4YUKJWBA6|2377552    |B002UBI6W6|328764615     |2015-01-31 |\n",
            "|R2F0POU5K6F73F|17521011   |B008XHCLFO|24234603      |2015-01-31 |\n",
            "|R3VNR804HYSMR6|19676307   |B00BRA9R6A|682267517     |2015-01-31 |\n",
            "|R3GZTM72WA2QH |224068     |B009EPWJLA|435241890     |2015-01-31 |\n",
            "|RNQOY62705W1K |48467989   |B0000AV7GB|256572651     |2015-01-31 |\n",
            "|R1VTIA3JTYBY02|106569     |B00008KTNN|384411423     |2015-01-31 |\n",
            "|R29DOU8791QZL8|48269642   |B000A3IA0Y|472622859     |2015-01-31 |\n",
            "|R15DUT1VIJ9RJZ|52738710   |B0053BQN34|577628462     |2015-01-31 |\n",
            "|R3IMF2MQ3OU9ZM|10556786   |B002I0HIMI|988218515     |2015-01-31 |\n",
            "|R23H79DHOZTYAU|2963837    |B0081EH12M|770100932     |2015-01-31 |\n",
            "|RIV24EQAIXA4O |23092109   |B005FMLZQQ|24647669      |2015-01-31 |\n",
            "|R3UCNGYDVN24YB|23091728   |B002BSA388|33706205      |2015-01-31 |\n",
            "|RUL4H4XTTN2DY |10712640   |B00BUSLSAC|829667834     |2015-01-31 |\n",
            "|R20JF7Z4DHTNX5|17455376   |B00KWF38AW|110680188     |2015-01-31 |\n",
            "|R2T1AJ5MFI2260|14754850   |B00BRQJYA8|616463426     |2015-01-31 |\n",
            "+--------------+-----------+----------+--------------+-----------+\n",
            "only showing top 20 rows\n",
            "\n"
          ],
          "name": "stdout"
        }
      ]
    },
    {
      "cell_type": "code",
      "metadata": {
        "id": "lzMmkdKmY--D",
        "colab": {
          "base_uri": "https://localhost:8080/"
        },
        "outputId": "211365f0-61b4-42b7-f590-81dbb62b35f5"
      },
      "source": [
        "# Create the vine_table. DataFrame\n",
        "vine_df = df.select(['review_id','star_rating','helpful_votes','total_votes','vine','verified_purchase'])\n",
        "vine_df.show(truncate=False)"
      ],
      "execution_count": null,
      "outputs": [
        {
          "output_type": "stream",
          "text": [
            "+--------------+-----------+-------------+-----------+----+-----------------+\n",
            "|review_id     |star_rating|helpful_votes|total_votes|vine|verified_purchase|\n",
            "+--------------+-----------+-------------+-----------+----+-----------------+\n",
            "|RTIS3L2M1F5SM |5          |0            |0          |N   |Y                |\n",
            "|R1ZV7R40OLHKD |5          |0            |0          |N   |Y                |\n",
            "|R3BH071QLH8QMC|1          |0            |1          |N   |Y                |\n",
            "|R127K9NTSXA2YH|3          |0            |0          |N   |Y                |\n",
            "|R32ZWUXDJPW27Q|4          |0            |0          |N   |Y                |\n",
            "|R3AQQ4YUKJWBA6|1          |0            |0          |N   |Y                |\n",
            "|R2F0POU5K6F73F|5          |0            |0          |N   |Y                |\n",
            "|R3VNR804HYSMR6|5          |0            |0          |N   |Y                |\n",
            "|R3GZTM72WA2QH |5          |0            |0          |N   |Y                |\n",
            "|RNQOY62705W1K |4          |0            |0          |N   |Y                |\n",
            "|R1VTIA3JTYBY02|5          |0            |0          |N   |N                |\n",
            "|R29DOU8791QZL8|1          |0            |0          |N   |Y                |\n",
            "|R15DUT1VIJ9RJZ|2          |0            |0          |N   |Y                |\n",
            "|R3IMF2MQ3OU9ZM|4          |0            |0          |N   |Y                |\n",
            "|R23H79DHOZTYAU|1          |1            |1          |N   |Y                |\n",
            "|RIV24EQAIXA4O |5          |0            |0          |N   |Y                |\n",
            "|R3UCNGYDVN24YB|5          |0            |0          |N   |Y                |\n",
            "|RUL4H4XTTN2DY |5          |0            |0          |N   |Y                |\n",
            "|R20JF7Z4DHTNX5|5          |0            |0          |N   |Y                |\n",
            "|R2T1AJ5MFI2260|4          |0            |0          |N   |Y                |\n",
            "+--------------+-----------+-------------+-----------+----+-----------------+\n",
            "only showing top 20 rows\n",
            "\n"
          ],
          "name": "stdout"
        }
      ]
    },
    {
      "cell_type": "markdown",
      "metadata": {
        "id": "jITZhLkmY--J"
      },
      "source": [
        "### Connect to the AWS RDS instance and write each DataFrame to its table. "
      ]
    },
    {
      "cell_type": "code",
      "metadata": {
        "id": "2OAzkfomEM9l"
      },
      "source": [
        "#from google.colab import drive\n",
        "#drive.mount('/content/drive', force_remount=True)"
      ],
      "execution_count": null,
      "outputs": []
    },
    {
      "cell_type": "code",
      "metadata": {
        "id": "I8VMyzNoE8j8"
      },
      "source": [
        "#import sys\n",
        "#sys.path.insert(0,'/content/drive/My Drive/Colab-Notebooks/') "
      ],
      "execution_count": null,
      "outputs": []
    },
    {
      "cell_type": "markdown",
      "metadata": {
        "id": "zT1LkFhWW3lw"
      },
      "source": [
        ""
      ]
    },
    {
      "cell_type": "code",
      "metadata": {
        "id": "rXSd3Wq0FhJR"
      },
      "source": [
        "#from config import db_user, db_password"
      ],
      "execution_count": null,
      "outputs": []
    },
    {
      "cell_type": "code",
      "metadata": {
        "id": "7jiUvs1aY--L"
      },
      "source": [
        "# Configure settings for RDS\n",
        "mode = \"append\"\n",
        "jdbc_url=\"jdbc:postgresql://dataviz.c4oshx35gknd.us-east-1.rds.amazonaws.com:5432/AmazonVineAnalysis\"\n",
        "config = {\"user\":\"postgres\", \n",
        "          \"password\": \"**********\", \n",
        "          \"driver\":\"org.postgresql.Driver\"}"
      ],
      "execution_count": null,
      "outputs": []
    },
    {
      "cell_type": "code",
      "metadata": {
        "id": "T2zgZ-aKY--Q"
      },
      "source": [
        "# Write review_id_df to table in RDS\n",
        "review_id_table.write.jdbc(url=jdbc_url, table='review_id_table', mode=mode, properties=config)"
      ],
      "execution_count": null,
      "outputs": []
    },
    {
      "cell_type": "code",
      "metadata": {
        "id": "KbXri15fY--Z"
      },
      "source": [
        "# Write customers_df to table in RDS\n",
        "# 5 min 14 s\n",
        "customers_df.write.jdbc(url=jdbc_url, table='customers_table', mode=mode, properties=config)"
      ],
      "execution_count": null,
      "outputs": []
    },
    {
      "cell_type": "code",
      "metadata": {
        "id": "1m3yzn-LY--U"
      },
      "source": [
        "# Write products_df to table in RDS\n",
        "# about 3 min\n",
        "products_df.write.jdbc(url=jdbc_url, table='products_table', mode=mode, properties=config)"
      ],
      "execution_count": null,
      "outputs": []
    },
    {
      "cell_type": "code",
      "metadata": {
        "id": "XdQknSHLY--e"
      },
      "source": [
        "# Write vine_df to table in RDS\n",
        "# 11 minutes\n",
        "vine_df.write.jdbc(url=jdbc_url, table='vine_table', mode=mode, properties=config)"
      ],
      "execution_count": null,
      "outputs": []
    }
  ]
}