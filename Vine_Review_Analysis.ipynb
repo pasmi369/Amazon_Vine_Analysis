{
  "nbformat": 4,
  "nbformat_minor": 0,
  "metadata": {
    "colab": {
      "name": "Vine_Review_Analysis.ipynb",
      "provenance": [],
      "authorship_tag": "ABX9TyNhVUPwbdYSwm3N7wHIsY4h",
      "include_colab_link": true
    },
    "kernelspec": {
      "name": "python3",
      "display_name": "Python 3"
    },
    "language_info": {
      "name": "python"
    }
  },
  "cells": [
    {
      "cell_type": "markdown",
      "metadata": {
        "id": "view-in-github",
        "colab_type": "text"
      },
      "source": [
        "<a href=\"https://colab.research.google.com/github/pasmi369/Amazon_Vine_Analysis/blob/main/Vine_Review_Analysis.ipynb\" target=\"_parent\"><img src=\"https://colab.research.google.com/assets/colab-badge.svg\" alt=\"Open In Colab\"/></a>"
      ]
    },
    {
      "cell_type": "code",
      "metadata": {
        "colab": {
          "base_uri": "https://localhost:8080/"
        },
        "id": "_FEzLY13Zle8",
        "outputId": "a846d62b-d65e-4bfb-809b-c40720003d37"
      },
      "source": [
        "import os\n",
        "# Find the latest version of spark 2.0  from http://www-us.apache.org/dist/spark/ and enter as the spark version\n",
        "# For example:\n",
        "# spark_version = 'spark-3.0.0'\n",
        "spark_version = 'spark-3.0.2'\n",
        "os.environ['SPARK_VERSION']=spark_version\n",
        "\n",
        "# Install Spark and Java\n",
        "!apt-get update\n",
        "!apt-get install openjdk-11-jdk-headless -qq > /dev/null\n",
        "!wget -q http://www-us.apache.org/dist/spark/$SPARK_VERSION/$SPARK_VERSION-bin-hadoop2.7.tgz\n",
        "!tar xf $SPARK_VERSION-bin-hadoop2.7.tgz\n",
        "!pip install -q findspark\n",
        "\n",
        "# Set Environment Variables\n",
        "import os\n",
        "os.environ[\"JAVA_HOME\"] = \"/usr/lib/jvm/java-11-openjdk-amd64\"\n",
        "os.environ[\"SPARK_HOME\"] = f\"/content/{spark_version}-bin-hadoop2.7\"\n",
        "\n",
        "# Start a SparkSession\n",
        "import findspark\n",
        "findspark.init()"
      ],
      "execution_count": 2,
      "outputs": [
        {
          "output_type": "stream",
          "text": [
            "\r0% [Working]\r            \rGet:1 http://security.ubuntu.com/ubuntu bionic-security InRelease [88.7 kB]\n",
            "\r0% [Connecting to archive.ubuntu.com (91.189.88.142)] [1 InRelease 14.2 kB/88.7\r                                                                               \rGet:2 https://cloud.r-project.org/bin/linux/ubuntu bionic-cran40/ InRelease [3,626 B]\n",
            "Ign:3 https://developer.download.nvidia.com/compute/cuda/repos/ubuntu1804/x86_64  InRelease\n",
            "Ign:4 https://developer.download.nvidia.com/compute/machine-learning/repos/ubuntu1804/x86_64  InRelease\n",
            "Hit:5 https://developer.download.nvidia.com/compute/cuda/repos/ubuntu1804/x86_64  Release\n",
            "Hit:6 https://developer.download.nvidia.com/compute/machine-learning/repos/ubuntu1804/x86_64  Release\n",
            "Hit:7 http://archive.ubuntu.com/ubuntu bionic InRelease\n",
            "Get:8 http://ppa.launchpad.net/c2d4u.team/c2d4u4.0+/ubuntu bionic InRelease [15.9 kB]\n",
            "Get:9 http://archive.ubuntu.com/ubuntu bionic-updates InRelease [88.7 kB]\n",
            "Hit:10 http://ppa.launchpad.net/cran/libgit2/ubuntu bionic InRelease\n",
            "Get:11 http://security.ubuntu.com/ubuntu bionic-security/restricted amd64 Packages [450 kB]\n",
            "Get:12 http://archive.ubuntu.com/ubuntu bionic-backports InRelease [74.6 kB]\n",
            "Get:13 http://ppa.launchpad.net/deadsnakes/ppa/ubuntu bionic InRelease [15.9 kB]\n",
            "Get:14 http://security.ubuntu.com/ubuntu bionic-security/universe amd64 Packages [1,414 kB]\n",
            "Get:15 http://security.ubuntu.com/ubuntu bionic-security/main amd64 Packages [2,184 kB]\n",
            "Hit:17 http://ppa.launchpad.net/graphics-drivers/ppa/ubuntu bionic InRelease\n",
            "Get:19 http://ppa.launchpad.net/c2d4u.team/c2d4u4.0+/ubuntu bionic/main Sources [1,770 kB]\n",
            "Get:20 http://archive.ubuntu.com/ubuntu bionic-updates/universe amd64 Packages [2,184 kB]\n",
            "Get:21 http://archive.ubuntu.com/ubuntu bionic-updates/multiverse amd64 Packages [33.5 kB]\n",
            "Get:22 http://archive.ubuntu.com/ubuntu bionic-updates/restricted amd64 Packages [480 kB]\n",
            "Get:23 http://archive.ubuntu.com/ubuntu bionic-updates/main amd64 Packages [2,616 kB]\n",
            "Get:24 http://ppa.launchpad.net/c2d4u.team/c2d4u4.0+/ubuntu bionic/main amd64 Packages [906 kB]\n",
            "Get:25 http://ppa.launchpad.net/deadsnakes/ppa/ubuntu bionic/main amd64 Packages [40.9 kB]\n",
            "Fetched 12.4 MB in 4s (3,269 kB/s)\n",
            "Reading package lists... Done\n"
          ],
          "name": "stdout"
        }
      ]
    },
    {
      "cell_type": "code",
      "metadata": {
        "id": "MMqDAjVS0KN9"
      },
      "source": [
        "#Start Spark Session\n",
        "from pyspark.sql import SparkSession\n",
        "spark = SparkSession.builder.appName(\"BigData-Vine-Challenge\").config(\"spark.driver.extraClassPath\",\"/content/postgresql-42.2.16.jar\").getOrCreate()"
      ],
      "execution_count": 3,
      "outputs": []
    },
    {
      "cell_type": "code",
      "metadata": {
        "colab": {
          "base_uri": "https://localhost:8080/"
        },
        "id": "UZt3-5HMaBQ1",
        "outputId": "93fb9737-5b58-4418-ea39-5920fcc69a8b"
      },
      "source": [
        "# Load in data from S3 bucket\n",
        "from pyspark import SparkFiles\n",
        "url = \"https://s3.amazonaws.com/amazon-reviews-pds/tsv/amazon_reviews_us_Video_Games_v1_00.tsv.gz\"\n",
        "spark.sparkContext.addFile(url)\n",
        "df = spark.read.option(\"encoding\", \"UTF-8\").csv(SparkFiles.get(\"amazon_reviews_us_Video_Games_v1_00.tsv.gz\"), sep=\"\\t\", header=True, inferSchema=True)\n",
        "df.show(20,truncate=False)"
      ],
      "execution_count": 35,
      "outputs": [
        {
          "output_type": "stream",
          "text": [
            "+-----------+-----------+--------------+----------+--------------+---------------------------------------------------------------------------------------------------------------------------+----------------+-----------+-------------+-----------+----+-----------------+--------------------------------------------------------------------------+---------------------------------------------------------------------------------------------------------------------------------------------------------------------------------------------------------------------------------------------------------------------------------------------------------------------------------------------------+-----------+\n",
            "|marketplace|customer_id|review_id     |product_id|product_parent|product_title                                                                                                              |product_category|star_rating|helpful_votes|total_votes|vine|verified_purchase|review_headline                                                           |review_body                                                                                                                                                                                                                                                                                                                                        |review_date|\n",
            "+-----------+-----------+--------------+----------+--------------+---------------------------------------------------------------------------------------------------------------------------+----------------+-----------+-------------+-----------+----+-----------------+--------------------------------------------------------------------------+---------------------------------------------------------------------------------------------------------------------------------------------------------------------------------------------------------------------------------------------------------------------------------------------------------------------------------------------------+-----------+\n",
            "|US         |12039526   |RTIS3L2M1F5SM |B001CXYMFS|737716809     |Thrustmaster T-Flight Hotas X Flight Stick                                                                                 |Video Games     |5          |0            |0          |N   |Y                |an amazing joystick. I especially love that you can twist ...             |Used this for Elite Dangerous on my mac, an amazing joystick. I especially love that you can twist the stick for different movement bindings as well as move it in the normal way.                                                                                                                                                                 |2015-08-31 |\n",
            "|US         |9636577    |R1ZV7R40OLHKD |B00M920ND6|569686175     |Tonsee 6 buttons Wireless Optical Silent Gaming Mouse For PC Laptop Gamer Red                                              |Video Games     |5          |0            |0          |N   |Y                |Definitely a silent mouse... Not a single click was heard                 |Loved it,  I didn't even realise it was a gaming mouse,  I typed in &#34;silent mouse&#34; and selected this one. It is perfect and looks pretty cool as well. Now my boyfriend's gaming is wonderfully comfortably silent :) . Think I might just get one for myself.                                                                             |2015-08-31 |\n",
            "|US         |2331478    |R3BH071QLH8QMC|B0029CSOD2|98937668      |Hidden Mysteries: Titanic Secrets of the Fateful Voyage                                                                    |Video Games     |1          |0            |1          |N   |Y                |One Star                                                                  |poor quality work and not as it is advertised.                                                                                                                                                                                                                                                                                                     |2015-08-31 |\n",
            "|US         |52495923   |R127K9NTSXA2YH|B00GOOSV98|23143350      |GelTabz Performance Thumb Grips - PlayStation 4 and PlayStation 3                                                          |Video Games     |3          |0            |0          |N   |Y                |good, but could be bettee                                                 |nice, but tend to slip away from stick in intense (hard pressed) gaming sessions.                                                                                                                                                                                                                                                                  |2015-08-31 |\n",
            "|US         |14533949   |R32ZWUXDJPW27Q|B00Y074JOM|821342511     |Zero Suit Samus amiibo - Japan Import (Super Smash Bros Series)                                                            |Video Games     |4          |0            |0          |N   |Y                |Great but flawed.                                                         |Great amiibo, great for collecting. Quality material to be desired, since its not perfect.                                                                                                                                                                                                                                                         |2015-08-31 |\n",
            "|US         |2377552    |R3AQQ4YUKJWBA6|B002UBI6W6|328764615     |Psyclone Recharge Station for Nintendo Wii 4 Port With 4 Batteries                                                         |Video Games     |1          |0            |0          |N   |Y                |One Star                                                                  |The remote constantly have to be adjusted in order to charge.                                                                                                                                                                                                                                                                                      |2015-08-31 |\n",
            "|US         |17521011   |R2F0POU5K6F73F|B008XHCLFO|24234603      |Protection for your 3DS XL                                                                                                 |Video Games     |5          |0            |0          |N   |Y                |A Must                                                                    |I have a 2012-2013 XL and this is very durable, comfortable, and really cool looking.                                                                                                                                                                                                                                                              |2015-08-31 |\n",
            "|US         |19676307   |R3VNR804HYSMR6|B00BRA9R6A|682267517     |Nerf 3DS XL Armor                                                                                                          |Video Games     |5          |0            |0          |N   |Y                |Five Stars                                                                |Perfect, kids loved them. Great protection for their technology.                                                                                                                                                                                                                                                                                   |2015-08-31 |\n",
            "|US         |224068     |R3GZTM72WA2QH |B009EPWJLA|435241890     |One Piece: Pirate Warriors / Kaizoku Musou PS3 Game (Japanese Voice & English subtitle) [Region Free International Edition]|Video Games     |5          |0            |0          |N   |Y                |Five Stars                                                                |Excelent                                                                                                                                                                                                                                                                                                                                           |2015-08-31 |\n",
            "|US         |48467989   |RNQOY62705W1K |B0000AV7GB|256572651     |Playstation 2 Dance Pad Revolution 2                                                                                       |Video Games     |4          |0            |0          |N   |Y                |Four Stars                                                                |Slippery but expected                                                                                                                                                                                                                                                                                                                              |2015-08-31 |\n",
            "|US         |106569     |R1VTIA3JTYBY02|B00008KTNN|384411423     |Metal Arms: Glitch In The System                                                                                           |Video Games     |5          |0            |0          |N   |N                |Five Stars                                                                |Love the game. Seller hasn't released Amy info on my shipping  progress                                                                                                                                                                                                                                                                            |2015-08-31 |\n",
            "|US         |48269642   |R29DOU8791QZL8|B000A3IA0Y|472622859     |72 Pin Connector for NES 8 BIT Nintendo System (Bulk Packaging)                                                            |Video Games     |1          |0            |0          |N   |Y                |Game will get stuck                                                       |Does not fit properly. The cartridge will get stuck and will be a pain in the butt to get out! I don't think this company actually test this because if they did they would notice that the cartridge will be hard as hell to remove! My advice would be to try and refurbish the old 72 pin if possible. Don't waste your money like I did.       |2015-08-31 |\n",
            "|US         |52738710   |R15DUT1VIJ9RJZ|B0053BQN34|577628462     |uDraw Gametablet with uDraw Studio                                                                                         |Video Games     |2          |0            |0          |N   |Y                |We have tried it with kids ages 4-7 and none of them have had fun doing it|This was way too hard for my kids. We have tried it with kids ages 4-7 and none of them have had fun doing it. It's a little complicated and I pretty much had to do it the whole time for them. They would only play with it for a few minutes and then be done. It looked fun so we were disappointed that it wasn't easy enough for them to use.|2015-08-31 |\n",
            "|US         |10556786   |R3IMF2MQ3OU9ZM|B002I0HIMI|988218515     |NBA 2K12(Covers May Vary)                                                                                                  |Video Games     |4          |0            |0          |N   |Y                |Four Stars                                                                |Works great good game arrived quickly                                                                                                                                                                                                                                                                                                              |2015-08-31 |\n",
            "|US         |2963837    |R23H79DHOZTYAU|B0081EH12M|770100932     |New Trigger Grips Black Compatible With PSVita Playstation Vita                                                            |Video Games     |1          |1            |1          |N   |Y                |Now i have to buy a better one. Sorry guys but its the truth              |It did not fit the device well... Now i have to buy a better one. Sorry guys but its the truth.                                                                                                                                                                                                                                                    |2015-08-31 |\n",
            "|US         |23092109   |RIV24EQAIXA4O |B005FMLZQQ|24647669      |Xbox 360 Media Remote                                                                                                      |Video Games     |5          |0            |0          |N   |Y                |Five Stars                                                                |perfect lightweight and works flawless with Xbox 360                                                                                                                                                                                                                                                                                               |2015-08-31 |\n",
            "|US         |23091728   |R3UCNGYDVN24YB|B002BSA388|33706205      |Super Mario Galaxy 2                                                                                                       |Video Games     |5          |0            |0          |N   |Y                |Five Stars                                                                |great                                                                                                                                                                                                                                                                                                                                              |2015-08-31 |\n",
            "|US         |10712640   |RUL4H4XTTN2DY |B00BUSLSAC|829667834     |Nintendo 3DS XL - Yellow Pikachu                                                                                           |Video Games     |5          |0            |0          |N   |Y                |Five Stars                                                                |Works beautifully and looks great. I love playing the slew of great rpgs for it.                                                                                                                                                                                                                                                                   |2015-08-31 |\n",
            "|US         |17455376   |R20JF7Z4DHTNX5|B00KWF38AW|110680188     |Captain Toad:  Treasure Tracker                                                                                            |Video Games     |5          |0            |0          |N   |Y                |Five Stars                                                                |Kids loved the game.  They are 9 and 11.                                                                                                                                                                                                                                                                                                           |2015-08-31 |\n",
            "|US         |14754850   |R2T1AJ5MFI2260|B00BRQJYA8|616463426     |Lego Batman 2: DC Super Heroes                                                                                             |Video Games     |4          |0            |0          |N   |Y                |Four Stars                                                                |Goodngame                                                                                                                                                                                                                                                                                                                                          |2015-08-31 |\n",
            "+-----------+-----------+--------------+----------+--------------+---------------------------------------------------------------------------------------------------------------------------+----------------+-----------+-------------+-----------+----+-----------------+--------------------------------------------------------------------------+---------------------------------------------------------------------------------------------------------------------------------------------------------------------------------------------------------------------------------------------------------------------------------------------------------------------------------------------------+-----------+\n",
            "only showing top 20 rows\n",
            "\n"
          ],
          "name": "stdout"
        }
      ]
    },
    {
      "cell_type": "code",
      "metadata": {
        "colab": {
          "base_uri": "https://localhost:8080/"
        },
        "id": "PniPl5anaBUW",
        "outputId": "524f4005-28b1-4cd0-e03e-cf6e7b342b9e"
      },
      "source": [
        "# Create the vine_table DataFrame\n",
        "vine_df = df.select(['review_id','star_rating','helpful_votes','total_votes','vine','verified_purchase'])\n",
        "vine_df.show(truncate=False)"
      ],
      "execution_count": 38,
      "outputs": [
        {
          "output_type": "stream",
          "text": [
            "+--------------+-----------+-------------+-----------+----+-----------------+\n",
            "|review_id     |star_rating|helpful_votes|total_votes|vine|verified_purchase|\n",
            "+--------------+-----------+-------------+-----------+----+-----------------+\n",
            "|RTIS3L2M1F5SM |5          |0            |0          |N   |Y                |\n",
            "|R1ZV7R40OLHKD |5          |0            |0          |N   |Y                |\n",
            "|R3BH071QLH8QMC|1          |0            |1          |N   |Y                |\n",
            "|R127K9NTSXA2YH|3          |0            |0          |N   |Y                |\n",
            "|R32ZWUXDJPW27Q|4          |0            |0          |N   |Y                |\n",
            "|R3AQQ4YUKJWBA6|1          |0            |0          |N   |Y                |\n",
            "|R2F0POU5K6F73F|5          |0            |0          |N   |Y                |\n",
            "|R3VNR804HYSMR6|5          |0            |0          |N   |Y                |\n",
            "|R3GZTM72WA2QH |5          |0            |0          |N   |Y                |\n",
            "|RNQOY62705W1K |4          |0            |0          |N   |Y                |\n",
            "|R1VTIA3JTYBY02|5          |0            |0          |N   |N                |\n",
            "|R29DOU8791QZL8|1          |0            |0          |N   |Y                |\n",
            "|R15DUT1VIJ9RJZ|2          |0            |0          |N   |Y                |\n",
            "|R3IMF2MQ3OU9ZM|4          |0            |0          |N   |Y                |\n",
            "|R23H79DHOZTYAU|1          |1            |1          |N   |Y                |\n",
            "|RIV24EQAIXA4O |5          |0            |0          |N   |Y                |\n",
            "|R3UCNGYDVN24YB|5          |0            |0          |N   |Y                |\n",
            "|RUL4H4XTTN2DY |5          |0            |0          |N   |Y                |\n",
            "|R20JF7Z4DHTNX5|5          |0            |0          |N   |Y                |\n",
            "|R2T1AJ5MFI2260|4          |0            |0          |N   |Y                |\n",
            "+--------------+-----------+-------------+-----------+----+-----------------+\n",
            "only showing top 20 rows\n",
            "\n"
          ],
          "name": "stdout"
        }
      ]
    },
    {
      "cell_type": "code",
      "metadata": {
        "colab": {
          "base_uri": "https://localhost:8080/"
        },
        "id": "wWgboOP4aBYD",
        "outputId": "9dc9c815-577b-4e80-b9a1-05c8329d6fc4"
      },
      "source": [
        "# filter for only columns with 20 or more total votes\n",
        "clean_vine_df = vine_df.filter(vine_df[\"total_votes\"]>=20)\n",
        "clean_vine_df.show(truncate=False)"
      ],
      "execution_count": 39,
      "outputs": [
        {
          "output_type": "stream",
          "text": [
            "+--------------+-----------+-------------+-----------+----+-----------------+\n",
            "|review_id     |star_rating|helpful_votes|total_votes|vine|verified_purchase|\n",
            "+--------------+-----------+-------------+-----------+----+-----------------+\n",
            "|R4PKAZRQJJX14 |1          |21           |34         |N   |N                |\n",
            "|R2CI0Y288CC7E2|1          |21           |35         |N   |Y                |\n",
            "|R127WEQY2FM1T3|1          |147          |175        |N   |Y                |\n",
            "|R3EZ0EPYLDA34S|1          |14           |31         |N   |Y                |\n",
            "|R2FJ94555FZH32|2          |55           |60         |N   |N                |\n",
            "|R1U3AR67RE273L|1          |51           |65         |N   |Y                |\n",
            "|R3PZOXA5X1U8KW|4          |31           |36         |N   |N                |\n",
            "|R6KTC1OPIOIIG |2          |19           |34         |N   |Y                |\n",
            "|R36O341WWXXKNP|5          |28           |31         |N   |N                |\n",
            "|R3GSK9MM8DNOYI|1          |4            |32         |N   |N                |\n",
            "|R10LZVBLQHBVJ0|2          |151          |198        |N   |N                |\n",
            "|R1VR5GLGY1GE7N|1          |49           |51         |N   |Y                |\n",
            "|R3GUUC6NT4QMCL|1          |5            |36         |N   |N                |\n",
            "|R1ZSD020RT18I5|1          |7            |139        |N   |N                |\n",
            "|R113X48B575ASY|1          |15           |45         |N   |N                |\n",
            "|RJLYLGRYH7SFQ |1          |34           |116        |N   |N                |\n",
            "|R2OWDAR0EDEPTF|1          |23           |28         |N   |N                |\n",
            "|R3CICXKAHN6NUD|1          |0            |23         |N   |Y                |\n",
            "|R29BOS5HMAY1LO|5          |88           |110        |N   |N                |\n",
            "|R8WD0136CETA7 |2          |99           |119        |N   |N                |\n",
            "+--------------+-----------+-------------+-----------+----+-----------------+\n",
            "only showing top 20 rows\n",
            "\n"
          ],
          "name": "stdout"
        }
      ]
    },
    {
      "cell_type": "code",
      "metadata": {
        "colab": {
          "base_uri": "https://localhost:8080/"
        },
        "id": "ZDluRtQwaBbm",
        "outputId": "83f5a295-c017-4917-eb97-cf94849cf7c8"
      },
      "source": [
        "# filter for only columns with mostly helpful votes\n",
        "helpful_vine_df = clean_vine_df.filter(\"helpful_votes/total_votes>=0.5\")\n",
        "helpful_vine_df.show(truncate=False)"
      ],
      "execution_count": 40,
      "outputs": [
        {
          "output_type": "stream",
          "text": [
            "+--------------+-----------+-------------+-----------+----+-----------------+\n",
            "|review_id     |star_rating|helpful_votes|total_votes|vine|verified_purchase|\n",
            "+--------------+-----------+-------------+-----------+----+-----------------+\n",
            "|R4PKAZRQJJX14 |1          |21           |34         |N   |N                |\n",
            "|R2CI0Y288CC7E2|1          |21           |35         |N   |Y                |\n",
            "|R127WEQY2FM1T3|1          |147          |175        |N   |Y                |\n",
            "|R2FJ94555FZH32|2          |55           |60         |N   |N                |\n",
            "|R1U3AR67RE273L|1          |51           |65         |N   |Y                |\n",
            "|R3PZOXA5X1U8KW|4          |31           |36         |N   |N                |\n",
            "|R6KTC1OPIOIIG |2          |19           |34         |N   |Y                |\n",
            "|R36O341WWXXKNP|5          |28           |31         |N   |N                |\n",
            "|R10LZVBLQHBVJ0|2          |151          |198        |N   |N                |\n",
            "|R1VR5GLGY1GE7N|1          |49           |51         |N   |Y                |\n",
            "|R2OWDAR0EDEPTF|1          |23           |28         |N   |N                |\n",
            "|R29BOS5HMAY1LO|5          |88           |110        |N   |N                |\n",
            "|R8WD0136CETA7 |2          |99           |119        |N   |N                |\n",
            "|R16621F16PQN5A|3          |24           |31         |N   |Y                |\n",
            "|R1LXBPG1M9DDOC|1          |102          |106        |N   |N                |\n",
            "|RNEMGSUKJ4535 |2          |21           |25         |N   |Y                |\n",
            "|R3R2UKBFKP1IQ4|1          |19           |23         |N   |Y                |\n",
            "|R2T90XM5G2DBZA|3          |15           |22         |N   |Y                |\n",
            "|R5ZMK0Y0KRBRZ |1          |79           |91         |N   |N                |\n",
            "|R12E2W0XOV3I2S|1          |24           |30         |N   |Y                |\n",
            "+--------------+-----------+-------------+-----------+----+-----------------+\n",
            "only showing top 20 rows\n",
            "\n"
          ],
          "name": "stdout"
        }
      ]
    },
    {
      "cell_type": "code",
      "metadata": {
        "colab": {
          "base_uri": "https://localhost:8080/"
        },
        "id": "qIe2RiPHfKih",
        "outputId": "4d208ecb-4da1-4889-c5bd-7f1fe002464a"
      },
      "source": [
        "# load in a sql function to use columns \n",
        "from pyspark.sql.functions import col\n",
        "\n",
        "# Filter new DF that retrieves all rows where review for Vine(paid) column with vine == \"Y\"\n",
        "helpful_vine_paid_df = helpful_vine_df.filter(col(\"vine\") == 'Y')\n",
        "helpful_vine_paid_df.show(truncate=False)"
      ],
      "execution_count": 41,
      "outputs": [
        {
          "output_type": "stream",
          "text": [
            "+--------------+-----------+-------------+-----------+----+-----------------+\n",
            "|review_id     |star_rating|helpful_votes|total_votes|vine|verified_purchase|\n",
            "+--------------+-----------+-------------+-----------+----+-----------------+\n",
            "|R3KKUSGFZWSUIY|5          |56           |63         |Y   |N                |\n",
            "|R10FO5UKKVZBK2|3          |23           |23         |Y   |N                |\n",
            "|RM4KSGEOR7MU1 |5          |19           |24         |Y   |N                |\n",
            "|RG7VRMYLEXD23 |4          |22           |26         |Y   |N                |\n",
            "|R11O4YSCPSNL6L|3          |20           |26         |Y   |N                |\n",
            "|R286MFBAJ8NPD6|5          |46           |51         |Y   |N                |\n",
            "|R1JRR530H4COA2|5          |22           |28         |Y   |N                |\n",
            "|RQ5WD90PUNBU9 |5          |21           |24         |Y   |N                |\n",
            "|R12648VHCQWUV9|4          |21           |28         |Y   |N                |\n",
            "|R3KAW29CJ8L6DQ|5          |17           |20         |Y   |N                |\n",
            "|R1OWK33OPI45KT|5          |55           |58         |Y   |N                |\n",
            "|R2UP7VTED8O425|5          |35           |41         |Y   |N                |\n",
            "|R3N4QAXTQCA1ED|5          |18           |20         |Y   |N                |\n",
            "|R3EPHK0JGQGE91|5          |21           |28         |Y   |N                |\n",
            "|RCP3KRO47S0GG |4          |51           |58         |Y   |N                |\n",
            "|R3JT907UUA1WUI|4          |85           |103        |Y   |N                |\n",
            "|RY0555ILXIYXW |5          |38           |50         |Y   |N                |\n",
            "|R24PS9N276OXF4|5          |241          |262        |Y   |N                |\n",
            "|R3R0F8ETAGTIOT|5          |14           |20         |Y   |N                |\n",
            "|ROXZOMHBY8Y9S |4          |21           |23         |Y   |N                |\n",
            "+--------------+-----------+-------------+-----------+----+-----------------+\n",
            "only showing top 20 rows\n",
            "\n"
          ],
          "name": "stdout"
        }
      ]
    },
    {
      "cell_type": "code",
      "metadata": {
        "colab": {
          "base_uri": "https://localhost:8080/"
        },
        "id": "5XlvZ12FaCEt",
        "outputId": "9d353a43-79a4-4433-b3d2-762e69b5d0f4"
      },
      "source": [
        "# Filter new DF that retrieves all rows where review for Vine(unpaid) column with vine == \"N\"\n",
        "\n",
        "helpful_vine_unpaid_df = helpful_vine_df.filter(col(\"vine\") == 'N')\n",
        "helpful_vine_unpaid_df.show(truncate=False)"
      ],
      "execution_count": 55,
      "outputs": [
        {
          "output_type": "stream",
          "text": [
            "+--------------+-----------+-------------+-----------+----+-----------------+\n",
            "|review_id     |star_rating|helpful_votes|total_votes|vine|verified_purchase|\n",
            "+--------------+-----------+-------------+-----------+----+-----------------+\n",
            "|R4PKAZRQJJX14 |1          |21           |34         |N   |N                |\n",
            "|R2CI0Y288CC7E2|1          |21           |35         |N   |Y                |\n",
            "|R127WEQY2FM1T3|1          |147          |175        |N   |Y                |\n",
            "|R2FJ94555FZH32|2          |55           |60         |N   |N                |\n",
            "|R1U3AR67RE273L|1          |51           |65         |N   |Y                |\n",
            "|R3PZOXA5X1U8KW|4          |31           |36         |N   |N                |\n",
            "|R6KTC1OPIOIIG |2          |19           |34         |N   |Y                |\n",
            "|R36O341WWXXKNP|5          |28           |31         |N   |N                |\n",
            "|R10LZVBLQHBVJ0|2          |151          |198        |N   |N                |\n",
            "|R1VR5GLGY1GE7N|1          |49           |51         |N   |Y                |\n",
            "|R2OWDAR0EDEPTF|1          |23           |28         |N   |N                |\n",
            "|R29BOS5HMAY1LO|5          |88           |110        |N   |N                |\n",
            "|R8WD0136CETA7 |2          |99           |119        |N   |N                |\n",
            "|R16621F16PQN5A|3          |24           |31         |N   |Y                |\n",
            "|R1LXBPG1M9DDOC|1          |102          |106        |N   |N                |\n",
            "|RNEMGSUKJ4535 |2          |21           |25         |N   |Y                |\n",
            "|R3R2UKBFKP1IQ4|1          |19           |23         |N   |Y                |\n",
            "|R2T90XM5G2DBZA|3          |15           |22         |N   |Y                |\n",
            "|R5ZMK0Y0KRBRZ |1          |79           |91         |N   |N                |\n",
            "|R12E2W0XOV3I2S|1          |24           |30         |N   |Y                |\n",
            "+--------------+-----------+-------------+-----------+----+-----------------+\n",
            "only showing top 20 rows\n",
            "\n"
          ],
          "name": "stdout"
        }
      ]
    },
    {
      "cell_type": "code",
      "metadata": {
        "colab": {
          "base_uri": "https://localhost:8080/"
        },
        "id": "ps95LLRrzdGN",
        "outputId": "5f049f27-ffcc-474c-e42e-72c1fb78b2a5"
      },
      "source": [
        "# Determine total number of reviews\n",
        "helpful_vine_df.count()"
      ],
      "execution_count": 43,
      "outputs": [
        {
          "output_type": "execute_result",
          "data": {
            "text/plain": [
              "40565"
            ]
          },
          "metadata": {
            "tags": []
          },
          "execution_count": 43
        }
      ]
    },
    {
      "cell_type": "code",
      "metadata": {
        "colab": {
          "base_uri": "https://localhost:8080/"
        },
        "id": "MBxuYkwZzdKN",
        "outputId": "4a6cfc73-0313-45f9-cb62-c3714b8d3aeb"
      },
      "source": [
        "# Determine total number of paid reviews\n",
        "helpful_vine_paid_df.count()"
      ],
      "execution_count": 44,
      "outputs": [
        {
          "output_type": "execute_result",
          "data": {
            "text/plain": [
              "94"
            ]
          },
          "metadata": {
            "tags": []
          },
          "execution_count": 44
        }
      ]
    },
    {
      "cell_type": "code",
      "metadata": {
        "colab": {
          "base_uri": "https://localhost:8080/"
        },
        "id": "TKbaVhgIzdOs",
        "outputId": "2c56f63b-4a97-45df-ee3e-592187048656"
      },
      "source": [
        "# Determine total number of unpaid reviews\n",
        "helpful_vine_unpaid_df.count()"
      ],
      "execution_count": 56,
      "outputs": [
        {
          "output_type": "execute_result",
          "data": {
            "text/plain": [
              "40471"
            ]
          },
          "metadata": {
            "tags": []
          },
          "execution_count": 56
        }
      ]
    },
    {
      "cell_type": "code",
      "metadata": {
        "colab": {
          "base_uri": "https://localhost:8080/"
        },
        "id": "i4FA8Pt5zdSR",
        "outputId": "1f26d140-127e-402a-9072-ec0f9b3b46ee"
      },
      "source": [
        "# Determine number of 5-star reviews\n",
        "helpful_vine_df.filter(col(\"star_rating\") == 5).count()"
      ],
      "execution_count": 46,
      "outputs": [
        {
          "output_type": "execute_result",
          "data": {
            "text/plain": [
              "15711"
            ]
          },
          "metadata": {
            "tags": []
          },
          "execution_count": 46
        }
      ]
    },
    {
      "cell_type": "code",
      "metadata": {
        "colab": {
          "base_uri": "https://localhost:8080/"
        },
        "id": "0p9fKXyJ0wd2",
        "outputId": "7663749a-0404-4216-f89b-7c8fc323828e"
      },
      "source": [
        "# Determine number of paid 5-star reviews\n",
        "helpful_vine_paid_df.filter(col(\"star_rating\") == 5).count()"
      ],
      "execution_count": 47,
      "outputs": [
        {
          "output_type": "execute_result",
          "data": {
            "text/plain": [
              "48"
            ]
          },
          "metadata": {
            "tags": []
          },
          "execution_count": 47
        }
      ]
    },
    {
      "cell_type": "code",
      "metadata": {
        "colab": {
          "base_uri": "https://localhost:8080/"
        },
        "id": "rD4M-m3a0wpO",
        "outputId": "e0596385-9e20-4935-8aba-9557d128aba0"
      },
      "source": [
        "# Determine number of unpaid 5-star reviews\n",
        "helpful_vine_unpaid_df.filter(col(\"star_rating\") == 5).count()"
      ],
      "execution_count": 57,
      "outputs": [
        {
          "output_type": "execute_result",
          "data": {
            "text/plain": [
              "15663"
            ]
          },
          "metadata": {
            "tags": []
          },
          "execution_count": 57
        }
      ]
    },
    {
      "cell_type": "code",
      "metadata": {
        "id": "2iEAox5VaCIO",
        "colab": {
          "base_uri": "https://localhost:8080/"
        },
        "outputId": "eb937162-45d4-4552-8ec6-05057deb7c72"
      },
      "source": [
        "#Determine percentage of 5-star paid reviews\n",
        "a = helpful_vine_paid_df.count()\n",
        "b = helpful_vine_paid_df.filter(col(\"star_rating\") == 5).count()\n",
        "percentage_paid = b/a*100\n",
        "print(str(round(percentage_paid,2)) + \"% of paid reviews are 5-stars\")\n"
      ],
      "execution_count": 52,
      "outputs": [
        {
          "output_type": "stream",
          "text": [
            "51.06% of paid reviews are 5-stars\n"
          ],
          "name": "stdout"
        }
      ]
    },
    {
      "cell_type": "code",
      "metadata": {
        "colab": {
          "base_uri": "https://localhost:8080/"
        },
        "id": "SvY7ng_81_gg",
        "outputId": "c8fed29b-500d-4c56-dbdc-fdc7c623a601"
      },
      "source": [
        "# Determine percentage of 5-star unpaid reviews\n",
        "c = helpful_vine_unpaid_df.count()\n",
        "d = helpful_vine_unpaid_df.filter(col(\"star_rating\") == 5).count()\n",
        "percentage_unpaid = d/c * 100\n",
        "print(str(round(percentage_unpaid,2)) + \"% of unpaid reviews are 5-stars\")"
      ],
      "execution_count": 58,
      "outputs": [
        {
          "output_type": "stream",
          "text": [
            "38.7% of unpaid reviews are 5-stars\n"
          ],
          "name": "stdout"
        }
      ]
    }
  ]
}